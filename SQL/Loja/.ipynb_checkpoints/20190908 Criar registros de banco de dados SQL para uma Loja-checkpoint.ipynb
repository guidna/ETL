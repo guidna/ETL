{
 "cells": [
  {
   "cell_type": "markdown",
   "metadata": {},
   "source": [
    "## Criar registros de banco de dados SQL para uma loja\n",
    "\n",
    "###### São Paulo, 08/09/2019\n",
    "#### Guilherme Norberto - Profissional de Big Data (Data Engineering), Poliglota e Multidisciplinar\n",
    "##### www.ofuturoeagora.com.br - www.linkedin.com/in/guilhermedna"
   ]
  },
  {
   "cell_type": "markdown",
   "metadata": {},
   "source": [
    "#### Esse script será utilizado para criar registros de banco de dados SQL para uma Loja. Os dados se referem às vendas e aos vendedores de uma Loja."
   ]
  },
  {
   "cell_type": "markdown",
   "metadata": {},
   "source": [
    "### Importando biblioteca para criar dados aleatórios"
   ]
  },
  {
   "cell_type": "code",
   "execution_count": 24,
   "metadata": {},
   "outputs": [
    {
     "data": {
      "text/plain": [
       "'2011-10-8'"
      ]
     },
     "execution_count": 24,
     "metadata": {},
     "output_type": "execute_result"
    }
   ],
   "source": [
    "import random"
   ]
  },
  {
   "cell_type": "markdown",
   "metadata": {},
   "source": [
    "### Definindo algumas variáveis"
   ]
  },
  {
   "cell_type": "code",
   "execution_count": 102,
   "metadata": {},
   "outputs": [],
   "source": [
    "openInsert = \"INSERT INTO `venda`(`venda_id`, `vendedor_id`, `venda_data`, `venda_valor`) VALUES (\"\n",
    "closeInsert =\");\"\n",
    "inserts = []"
   ]
  },
  {
   "cell_type": "markdown",
   "metadata": {},
   "source": [
    "### Criando registros de vendas"
   ]
  },
  {
   "cell_type": "code",
   "execution_count": 103,
   "metadata": {},
   "outputs": [
    {
     "name": "stdout",
     "output_type": "stream",
     "text": [
      "200\n",
      "400\n",
      "600\n",
      "800\n"
     ]
    }
   ],
   "source": [
    "# número de registros por vendedor\n",
    "n = 200\n",
    "\n",
    "for y in range(0,4):\n",
    "    for x in range(n*y,n+n*y):\n",
    "        venda_id = str(x)\n",
    "        vendedor_id = str(y)\n",
    "        venda_data = str(random.randint(2015, 2017))+\"-\"+str(random.randint(1, 12))+\"-\"+str(random.randint(1, 28))\n",
    "        venda_valor = str(random.randint(10, 9999)+random.random())\n",
    "        inserts.append(openInsert+venda_id+\",\"+vendedor_id+\",'\"+venda_data+\"',\"+venda_valor+closeInsert)\n",
    "    print(n+n*y)"
   ]
  },
  {
   "cell_type": "markdown",
   "metadata": {},
   "source": [
    "### Verificando quantidade de registros criados"
   ]
  },
  {
   "cell_type": "code",
   "execution_count": 104,
   "metadata": {},
   "outputs": [
    {
     "data": {
      "text/plain": [
       "800"
      ]
     },
     "execution_count": 104,
     "metadata": {},
     "output_type": "execute_result"
    }
   ],
   "source": [
    "len(inserts)"
   ]
  },
  {
   "cell_type": "markdown",
   "metadata": {},
   "source": [
    "### Salvando registros de vendas em arquivo"
   ]
  },
  {
   "cell_type": "code",
   "execution_count": 65,
   "metadata": {},
   "outputs": [],
   "source": [
    "sellData = open(\"20190908 Registros de vendas.sql\",\"w\")"
   ]
  },
  {
   "cell_type": "code",
   "execution_count": 66,
   "metadata": {},
   "outputs": [],
   "source": [
    "for insert in inserts:\n",
    "    sellData.write(insert+\"\\n\")\n",
    "sellData.close()"
   ]
  },
  {
   "cell_type": "markdown",
   "metadata": {},
   "source": [
    "### Criando registros de vendedores"
   ]
  },
  {
   "cell_type": "code",
   "execution_count": 85,
   "metadata": {},
   "outputs": [],
   "source": [
    "openInsert = \"INSERT INTO `vendedor`(`vendedor_id`, `vendedor_nome`) VALUES (\"\n",
    "closeInsert =\");\"\n",
    "vendedores = [\"Luiz\",\"Joao\",\"Paulo\",\"Guilherme\"]\n",
    "inserts = []"
   ]
  },
  {
   "cell_type": "code",
   "execution_count": 86,
   "metadata": {},
   "outputs": [],
   "source": [
    "for x in range(0,4):\n",
    "    vendedor_id = str(x)\n",
    "    vendedor = vendedores[x]\n",
    "    inserts.append(openInsert+vendedor_id+\",'\"+vendedor+\"'\"+closeInsert)"
   ]
  },
  {
   "cell_type": "markdown",
   "metadata": {},
   "source": [
    "### Verificando quantidade de registros criados"
   ]
  },
  {
   "cell_type": "code",
   "execution_count": 87,
   "metadata": {},
   "outputs": [
    {
     "data": {
      "text/plain": [
       "4"
      ]
     },
     "execution_count": 87,
     "metadata": {},
     "output_type": "execute_result"
    }
   ],
   "source": [
    "len(inserts)"
   ]
  },
  {
   "cell_type": "markdown",
   "metadata": {},
   "source": [
    "### Salvando registros de vendas em arquivo"
   ]
  },
  {
   "cell_type": "code",
   "execution_count": 88,
   "metadata": {},
   "outputs": [],
   "source": [
    "sellerData = open(\"20190908 Cadastros de vendedores.sql\",\"w\")"
   ]
  },
  {
   "cell_type": "code",
   "execution_count": 89,
   "metadata": {},
   "outputs": [],
   "source": [
    "for insert in inserts:\n",
    "    sellerData.write(insert+\"\\n\")\n",
    "sellData.close()"
   ]
  },
  {
   "cell_type": "markdown",
   "metadata": {},
   "source": [
    "### FIM"
   ]
  }
 ],
 "metadata": {
  "kernelspec": {
   "display_name": "Python 3",
   "language": "python",
   "name": "python3"
  },
  "language_info": {
   "codemirror_mode": {
    "name": "ipython",
    "version": 3
   },
   "file_extension": ".py",
   "mimetype": "text/x-python",
   "name": "python",
   "nbconvert_exporter": "python",
   "pygments_lexer": "ipython3",
   "version": "3.7.0"
  }
 },
 "nbformat": 4,
 "nbformat_minor": 2
}
