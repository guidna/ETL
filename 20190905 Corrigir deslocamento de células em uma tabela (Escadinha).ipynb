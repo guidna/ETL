{
 "cells": [
  {
   "cell_type": "markdown",
   "metadata": {},
   "source": [
    "## Transformação de dados: alterando a ordem das informações de uma tabela que teve células deslocadas | Corrigindo uma tabela \"Escadinha\"\n",
    "\n",
    "###### São Paulo, 05-09/09/2019\n",
    "#### Guilherme Norberto - Profissional de Big Data (Data Engineering), Poliglota e Multidisciplinar\n",
    "##### www.ofuturoeagora.com.br - www.linkedin.com/in/guilhermedna\n"
   ]
  },
  {
   "cell_type": "markdown",
   "metadata": {},
   "source": [
    "#### A partir de uma tabela de n Colunas x n Linhas, verificar se essa tabela sofreu deslocamento de suas células ou não em \"Escadinha\", independentemente se seus valores são positivos ou negativos.\n",
    "\n",
    "#### Restrições do sistema: para a correção automática das posições da tabela, os valores de todas as linhas devem ser padronizados. Caso não sejam, é necessário que o parâmetro \"deslocamentoCelula1\" seja definido manualmente após análise da tabela.\n",
    "\n",
    "#### Exemplo de tabela \"Escadinha\":\n",
    "#### [-1, -2, -3, -4, -5, -6, -7, -8, -9, -10, -11, -12, -78]\n",
    "#### [-78, -1, -2, -3, -4, -5, -6, -7, -8, -9, -10, -11, -12]\n",
    "#### [-12, -78, -1, -2, -3, -4, -5, -6, -7, -8, -9, -10, -11]\n",
    "#### [-11, -12, -78, -1, -2, -3, -4, -5, -6, -7, -8, -9, -10]\n",
    "#### [-10, -11, -12, -78, -1, -2, -3, -4, -5, -6, -7, -8, -9]\n",
    "#### [-9, -10, -11, -12, -78, -1, -2, -3, -4, -5, -6, -7, -8]\n",
    "#### [-8, -9, -10, -11, -12, -78, -1, -2, -3, -4, -5, -6, -7]\n",
    "#### [-7, -8, -9, -10, -11, -12, -78, -1, -2, -3, -4, -5, -6]\n",
    "#### [-6, -7, -8, -9, -10, -11, -12, -78, -1, -2, -3, -4, -5]\n",
    "#### [-5, -6, -7, -8, -9, -10, -11, -12, -78, -1, -2, -3, -4]\n",
    "#### [-4, -5, -6, -7, -8, -9, -10, -11, -12, -78, -1, -2, -3]\n",
    "#### [-3, -4, -5, -6, -7, -8, -9, -10, -11, -12, -78, -1, -2]\n",
    "#### [-2, -3, -4, -5, -6, -7, -8, -9, -10, -11, -12, -78, -1]"
   ]
  },
  {
   "cell_type": "markdown",
   "metadata": {},
   "source": [
    "### Função para negativar linha"
   ]
  },
  {
   "cell_type": "code",
   "execution_count": 28,
   "metadata": {},
   "outputs": [],
   "source": [
    "def negativar(linha):\n",
    "    for x in range(0,len(linha)):\n",
    "        linha[x] = linha[x]*-1\n",
    "    return linha"
   ]
  },
  {
   "cell_type": "markdown",
   "metadata": {},
   "source": [
    "### Função para criar nossa tabela \"escadinha\""
   ]
  },
  {
   "cell_type": "code",
   "execution_count": 29,
   "metadata": {},
   "outputs": [],
   "source": [
    "def criarTabelaEscadinha(nColunas,nLinhas):\n",
    "\n",
    "    # Criando a primeira linha da nossa tabela com valores entre 1 e \"nColunas\"\n",
    "    linha = list(range(1,nColunas))\n",
    "    \n",
    "    # Adicionando a soma de valores dos meses na coluna Total\n",
    "    total = 0\n",
    "    for x in linha:\n",
    "        total = total + x\n",
    "    linha.append(total)\n",
    "    \n",
    "    # Opcional: negativar valores da linha\n",
    "    #negativar(linha)\n",
    "    \n",
    "    # Criando as demais linhas e realizando o deslocamento dos valores\n",
    "    tabelaEscadinha = []\n",
    "    x=0\n",
    "    for y in range(0,nLinhas):\n",
    "        if x == nColunas:\n",
    "            x = 0\n",
    "        tabelaEscadinha.append(linha[-x:]+linha[:-x])\n",
    "        x = x + 1\n",
    "\n",
    "    return tabelaEscadinha"
   ]
  },
  {
   "cell_type": "markdown",
   "metadata": {},
   "source": [
    "### Formato da tabela Escadinha"
   ]
  },
  {
   "cell_type": "code",
   "execution_count": 30,
   "metadata": {},
   "outputs": [],
   "source": [
    "nColunas = 13\n",
    "nLinhas = 13"
   ]
  },
  {
   "cell_type": "markdown",
   "metadata": {},
   "source": [
    "### Criando nossa tabela Escadinha"
   ]
  },
  {
   "cell_type": "code",
   "execution_count": 41,
   "metadata": {},
   "outputs": [
    {
     "data": {
      "text/plain": [
       "[[1, 2, 3, 4, 5, 6, 7, 8, 9, 10, 11, 12, 78],\n",
       " [78, 1, 2, 3, 4, 5, 6, 7, 8, 9, 10, 11, 12],\n",
       " [12, 78, 1, 2, 3, 4, 5, 6, 7, 8, 9, 10, 11],\n",
       " [11, 12, 78, 1, 2, 3, 4, 5, 6, 7, 8, 9, 10],\n",
       " [10, 11, 12, 78, 1, 2, 3, 4, 5, 6, 7, 8, 9],\n",
       " [9, 10, 11, 12, 78, 1, 2, 3, 4, 5, 6, 7, 8],\n",
       " [8, 9, 10, 11, 12, 78, 1, 2, 3, 4, 5, 6, 7],\n",
       " [7, 8, 9, 10, 11, 12, 78, 1, 2, 3, 4, 5, 6],\n",
       " [6, 7, 8, 9, 10, 11, 12, 78, 1, 2, 3, 4, 5],\n",
       " [5, 6, 7, 8, 9, 10, 11, 12, 78, 1, 2, 3, 4],\n",
       " [4, 5, 6, 7, 8, 9, 10, 11, 12, 78, 1, 2, 3],\n",
       " [3, 4, 5, 6, 7, 8, 9, 10, 11, 12, 78, 1, 2],\n",
       " [2, 3, 4, 5, 6, 7, 8, 9, 10, 11, 12, 78, 1]]"
      ]
     },
     "execution_count": 41,
     "metadata": {},
     "output_type": "execute_result"
    }
   ],
   "source": [
    "tbEscadinha = criarTabelaEscadinha(nColunas,nLinhas)\n",
    "tbEscadinha"
   ]
  },
  {
   "cell_type": "markdown",
   "metadata": {},
   "source": [
    "### Alterar tabela para depois verificar se ela é do tipo \"Escadinha\" ou não"
   ]
  },
  {
   "cell_type": "code",
   "execution_count": 42,
   "metadata": {},
   "outputs": [
    {
     "data": {
      "text/plain": [
       "[8, 9, 10, 11, 12, 78, 1, 2, 3, 4, 5, 6, 7]"
      ]
     },
     "execution_count": 42,
     "metadata": {},
     "output_type": "execute_result"
    }
   ],
   "source": [
    "x = 6\n",
    "tbEscadinha.pop(x)"
   ]
  },
  {
   "cell_type": "code",
   "execution_count": 43,
   "metadata": {
    "scrolled": true
   },
   "outputs": [
    {
     "data": {
      "text/plain": [
       "[[1, 2, 3, 4, 5, 6, 7, 8, 9, 10, 11, 12, 78],\n",
       " [78, 1, 2, 3, 4, 5, 6, 7, 8, 9, 10, 11, 12],\n",
       " [12, 78, 1, 2, 3, 4, 5, 6, 7, 8, 9, 10, 11],\n",
       " [11, 12, 78, 1, 2, 3, 4, 5, 6, 7, 8, 9, 10],\n",
       " [10, 11, 12, 78, 1, 2, 3, 4, 5, 6, 7, 8, 9],\n",
       " [9, 10, 11, 12, 78, 1, 2, 3, 4, 5, 6, 7, 8],\n",
       " [7, 8, 9, 10, 11, 12, 78, 1, 2, 3, 4, 5, 6],\n",
       " [6, 7, 8, 9, 10, 11, 12, 78, 1, 2, 3, 4, 5],\n",
       " [5, 6, 7, 8, 9, 10, 11, 12, 78, 1, 2, 3, 4],\n",
       " [4, 5, 6, 7, 8, 9, 10, 11, 12, 78, 1, 2, 3],\n",
       " [3, 4, 5, 6, 7, 8, 9, 10, 11, 12, 78, 1, 2],\n",
       " [2, 3, 4, 5, 6, 7, 8, 9, 10, 11, 12, 78, 1]]"
      ]
     },
     "execution_count": 43,
     "metadata": {},
     "output_type": "execute_result"
    }
   ],
   "source": [
    "tbEscadinha"
   ]
  },
  {
   "cell_type": "markdown",
   "metadata": {},
   "source": [
    "### Função para checar se essa tabela é do tipo Escadinha"
   ]
  },
  {
   "cell_type": "code",
   "execution_count": 55,
   "metadata": {},
   "outputs": [],
   "source": [
    "def tipoTabela():\n",
    "    verificarEscadinha = 0\n",
    "    verificarPadraoCorreto = 0\n",
    "    verificarPadraoInutilizado = 0\n",
    "    x=0\n",
    "    try:\n",
    "        for y in range(0,len(tbEscadinha)):\n",
    "            if x == nColunas:\n",
    "                x = 0\n",
    "            if tbEscadinha[y][x] == tbEscadinha[y+1][x+1]:\n",
    "                verificarEscadinha = verificarEscadinha + 1\n",
    "            elif tbEscadinha[y][x] == tbEscadinha[y+1][x]:\n",
    "                verificarPadraoCorreto = verificarPadraoCorreto + 1\n",
    "            else:\n",
    "                verificarPadraoInutilizado = verificarPadraoInutilizado + 1\n",
    "            x = x + 1\n",
    "    except IndexError:\n",
    "        print(\"Todas as linhas foram comparadas!\")\n",
    "    \n",
    "    # Se quiser que a função retorne o \"estado\" da tabela, sendo: \n",
    "    # \"None\" para o tipo Escadinha; \n",
    "    # True para uma tabela que já pode ser utilizada; e\n",
    "    # False para uma tabela inutilizável\n",
    "    # descomente as linhas abaixo que possuem \"return\".\n",
    "    \n",
    "    if len(tbEscadinha)==verificarEscadinha+1:\n",
    "        print(\"\\nEssa tabela é do tipo Escadinha.\")\n",
    "        #return\n",
    "    elif len(tbEscadinha)==verificarPadraoCorreto+1:\n",
    "        print(\"\\nEssa tabela já pode ser utilizada porque não há deslocamento de células.\")\n",
    "        #return True\n",
    "    elif len(tbEscadinha)!=verificarPadraoInutilizado+1 and verificarPadraoInutilizado>0:\n",
    "        print(\"\\nEssa tabela não pode ser utilizada porque não possui padrão em seu deslocamento de células.\")\n",
    "        #return False"
   ]
  },
  {
   "cell_type": "markdown",
   "metadata": {},
   "source": [
    "### Verificando o tipo da tabela"
   ]
  },
  {
   "cell_type": "code",
   "execution_count": 56,
   "metadata": {},
   "outputs": [
    {
     "name": "stdout",
     "output_type": "stream",
     "text": [
      "Todas as linhas foram comparadas!\n",
      "\n",
      "Essa tabela já pode ser utilizada porque não há deslocamento de células.\n"
     ]
    }
   ],
   "source": [
    "tipoTabela()"
   ]
  },
  {
   "cell_type": "code",
   "execution_count": 57,
   "metadata": {},
   "outputs": [
    {
     "data": {
      "text/plain": [
       "[[1, 2, 3, 4, 5, 6, 7, 8, 9, 10, 11, 12, 78],\n",
       " [1, 2, 3, 4, 5, 6, 7, 8, 9, 10, 11, 12, 78],\n",
       " [1, 2, 3, 4, 5, 6, 7, 8, 9, 10, 11, 12, 78],\n",
       " [1, 2, 3, 4, 5, 6, 7, 8, 9, 10, 11, 12, 78],\n",
       " [1, 2, 3, 4, 5, 6, 7, 8, 9, 10, 11, 12, 78],\n",
       " [1, 2, 3, 4, 5, 6, 7, 8, 9, 10, 11, 12, 78],\n",
       " [1, 2, 3, 4, 5, 6, 7, 8, 9, 10, 11, 12, 78],\n",
       " [1, 2, 3, 4, 5, 6, 7, 8, 9, 10, 11, 12, 78],\n",
       " [1, 2, 3, 4, 5, 6, 7, 8, 9, 10, 11, 12, 78],\n",
       " [1, 2, 3, 4, 5, 6, 7, 8, 9, 10, 11, 12, 78],\n",
       " [1, 2, 3, 4, 5, 6, 7, 8, 9, 10, 11, 12, 78],\n",
       " [1, 2, 3, 4, 5, 6, 7, 8, 9, 10, 11, 12, 78],\n",
       " [1, 2, 3, 4, 5, 6, 7, 8, 9, 10, 11, 12, 78]]"
      ]
     },
     "execution_count": 57,
     "metadata": {},
     "output_type": "execute_result"
    }
   ],
   "source": [
    "tbEscadinha"
   ]
  },
  {
   "cell_type": "markdown",
   "metadata": {},
   "source": [
    "### Redefinindo nossa tabela Escadinha"
   ]
  },
  {
   "cell_type": "code",
   "execution_count": 58,
   "metadata": {},
   "outputs": [
    {
     "data": {
      "text/plain": [
       "[[1, 2, 3, 4, 5, 6, 7, 8, 9, 10, 11, 12, 78],\n",
       " [78, 1, 2, 3, 4, 5, 6, 7, 8, 9, 10, 11, 12],\n",
       " [12, 78, 1, 2, 3, 4, 5, 6, 7, 8, 9, 10, 11],\n",
       " [11, 12, 78, 1, 2, 3, 4, 5, 6, 7, 8, 9, 10],\n",
       " [10, 11, 12, 78, 1, 2, 3, 4, 5, 6, 7, 8, 9],\n",
       " [9, 10, 11, 12, 78, 1, 2, 3, 4, 5, 6, 7, 8],\n",
       " [8, 9, 10, 11, 12, 78, 1, 2, 3, 4, 5, 6, 7],\n",
       " [7, 8, 9, 10, 11, 12, 78, 1, 2, 3, 4, 5, 6],\n",
       " [6, 7, 8, 9, 10, 11, 12, 78, 1, 2, 3, 4, 5],\n",
       " [5, 6, 7, 8, 9, 10, 11, 12, 78, 1, 2, 3, 4],\n",
       " [4, 5, 6, 7, 8, 9, 10, 11, 12, 78, 1, 2, 3],\n",
       " [3, 4, 5, 6, 7, 8, 9, 10, 11, 12, 78, 1, 2],\n",
       " [2, 3, 4, 5, 6, 7, 8, 9, 10, 11, 12, 78, 1]]"
      ]
     },
     "execution_count": 58,
     "metadata": {},
     "output_type": "execute_result"
    }
   ],
   "source": [
    "tbEscadinha = criarTabelaEscadinha(nColunas,nLinhas)\n",
    "tbEscadinha"
   ]
  },
  {
   "cell_type": "markdown",
   "metadata": {},
   "source": [
    "### Definindo alguns valores para corrigir a tabela Escadinha"
   ]
  },
  {
   "cell_type": "code",
   "execution_count": 59,
   "metadata": {},
   "outputs": [],
   "source": [
    "vCelula1 = tbEscadinha[0][0]\n",
    "\n",
    "# Caso as células tenham valores diferentes mas deslocamento padrão,\n",
    "# analisar tabela e definir valor do parâmetro \"deslocamentoCelula1\" manualmente.\n",
    "# O deslocamento deve ser contado pegando o valor da primeira célula da primeira linha \n",
    "# e vendo seu posicionamento na linha seguinte, da esquerda para a direita.\n",
    "\n",
    "deslocamentoCelula1 = tbEscadinha[1].index(vCelula1)"
   ]
  },
  {
   "cell_type": "markdown",
   "metadata": {},
   "source": [
    "### Verificando valor da primeira célula e seu deslocamento na tabela"
   ]
  },
  {
   "cell_type": "code",
   "execution_count": 60,
   "metadata": {},
   "outputs": [
    {
     "name": "stdout",
     "output_type": "stream",
     "text": [
      "Valor da primeira célula da tabela: 1\n",
      "Deslocamento dessa célula na linha seguinte: 1\n"
     ]
    }
   ],
   "source": [
    "print(\"Valor da primeira célula da tabela:\",vCelula1)\n",
    "print(\"Deslocamento dessa célula na linha seguinte:\",deslocamentoCelula1)"
   ]
  },
  {
   "cell_type": "markdown",
   "metadata": {},
   "source": [
    "### Corrigindo deslocamento em cada linha da tabela para transformá-la numa tabela utilizável"
   ]
  },
  {
   "cell_type": "code",
   "execution_count": 61,
   "metadata": {},
   "outputs": [
    {
     "data": {
      "text/plain": [
       "[[1, 2, 3, 4, 5, 6, 7, 8, 9, 10, 11, 12, 78],\n",
       " [1, 2, 3, 4, 5, 6, 7, 8, 9, 10, 11, 12, 78],\n",
       " [1, 2, 3, 4, 5, 6, 7, 8, 9, 10, 11, 12, 78],\n",
       " [1, 2, 3, 4, 5, 6, 7, 8, 9, 10, 11, 12, 78],\n",
       " [1, 2, 3, 4, 5, 6, 7, 8, 9, 10, 11, 12, 78],\n",
       " [1, 2, 3, 4, 5, 6, 7, 8, 9, 10, 11, 12, 78],\n",
       " [1, 2, 3, 4, 5, 6, 7, 8, 9, 10, 11, 12, 78],\n",
       " [1, 2, 3, 4, 5, 6, 7, 8, 9, 10, 11, 12, 78],\n",
       " [1, 2, 3, 4, 5, 6, 7, 8, 9, 10, 11, 12, 78],\n",
       " [1, 2, 3, 4, 5, 6, 7, 8, 9, 10, 11, 12, 78],\n",
       " [1, 2, 3, 4, 5, 6, 7, 8, 9, 10, 11, 12, 78],\n",
       " [1, 2, 3, 4, 5, 6, 7, 8, 9, 10, 11, 12, 78],\n",
       " [1, 2, 3, 4, 5, 6, 7, 8, 9, 10, 11, 12, 78]]"
      ]
     },
     "execution_count": 61,
     "metadata": {},
     "output_type": "execute_result"
    }
   ],
   "source": [
    "for x in range(0,len(tbEscadinha)):\n",
    "    deslocamentoCelula1 = tbEscadinha[x].index(vCelula1)\n",
    "    if tbEscadinha[x][0] != vCelula1:\n",
    "        tbEscadinha[x] = tbEscadinha[x][deslocamentoCelula1:]+tbEscadinha[x][:deslocamentoCelula1]\n",
    "tbEscadinha"
   ]
  },
  {
   "cell_type": "markdown",
   "metadata": {},
   "source": [
    "### Verificando novamente o tipo da tabela"
   ]
  },
  {
   "cell_type": "code",
   "execution_count": 62,
   "metadata": {},
   "outputs": [
    {
     "name": "stdout",
     "output_type": "stream",
     "text": [
      "Todas as linhas foram comparadas!\n",
      "\n",
      "Essa tabela já pode ser utilizada porque não há deslocamento de células.\n"
     ]
    }
   ],
   "source": [
    "tipoTabela()"
   ]
  },
  {
   "cell_type": "markdown",
   "metadata": {},
   "source": [
    "### FIM"
   ]
  }
 ],
 "metadata": {
  "kernelspec": {
   "display_name": "Python 3",
   "language": "python",
   "name": "python3"
  },
  "language_info": {
   "codemirror_mode": {
    "name": "ipython",
    "version": 3
   },
   "file_extension": ".py",
   "mimetype": "text/x-python",
   "name": "python",
   "nbconvert_exporter": "python",
   "pygments_lexer": "ipython3",
   "version": "3.7.0"
  }
 },
 "nbformat": 4,
 "nbformat_minor": 2
}
